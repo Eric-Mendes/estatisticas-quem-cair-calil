{
  "nbformat": 4,
  "nbformat_minor": 0,
  "metadata": {
    "colab": {
      "name": "estudo_das_escalacoes_times_serios.ipynb",
      "provenance": [],
      "authorship_tag": "ABX9TyNO54mjpa1+2mWwKp3MOO7M",
      "include_colab_link": true
    },
    "kernelspec": {
      "name": "python3",
      "display_name": "Python 3"
    }
  },
  "cells": [
    {
      "cell_type": "markdown",
      "metadata": {
        "id": "view-in-github",
        "colab_type": "text"
      },
      "source": [
        "<a href=\"https://colab.research.google.com/github/Eric-Mendes/estatisticas-quem-cair-calil/blob/main/estudo_das_escalacoes_times_serios.ipynb\" target=\"_parent\"><img src=\"https://colab.research.google.com/assets/colab-badge.svg\" alt=\"Open In Colab\"/></a>"
      ]
    },
    {
      "cell_type": "markdown",
      "metadata": {
        "id": "jvuaEdtsmGZU"
      },
      "source": [
        "**ESTUDO SOBRE AS ESCALAÇÕES**"
      ]
    },
    {
      "cell_type": "code",
      "metadata": {
        "id": "7v-lv1MfOnUg"
      },
      "source": [
        "RODADAS = 33"
      ],
      "execution_count": 1,
      "outputs": []
    },
    {
      "cell_type": "code",
      "metadata": {
        "id": "x-bv1ar2OwYa"
      },
      "source": [
        "# importando as bibliotecas necessárias para estudar os dados\n",
        "import numpy as np # matemática\n",
        "import matplotlib.pyplot as plt # gráficos\n",
        "import pandas as pd # tabelas"
      ],
      "execution_count": 2,
      "outputs": []
    },
    {
      "cell_type": "code",
      "metadata": {
        "colab": {
          "base_uri": "https://localhost:8080/"
        },
        "id": "Hf3B0QCcO2Py",
        "outputId": "a42ebc9f-f6fe-4caf-fad2-09837773d97b"
      },
      "source": [
        "# importando os dados (do github)\n",
        "url = 'https://raw.githubusercontent.com/Eric-Mendes/estatisticas-quem-cair-\\\n",
        "calil/main/data/escalacoes_times_serios_cartola_2020_2021.csv'\n",
        "\n",
        "# criando um dataFrame (tabela) para a melhor visualização dos dados\n",
        "df = pd.read_csv(url)\n",
        " \n",
        "# informações da tabela\n",
        "df.info()"
      ],
      "execution_count": 3,
      "outputs": [
        {
          "output_type": "stream",
          "text": [
            "<class 'pandas.core.frame.DataFrame'>\n",
            "RangeIndex: 1584 entries, 0 to 1583\n",
            "Data columns (total 7 columns):\n",
            " #   Column     Non-Null Count  Dtype  \n",
            "---  ------     --------------  -----  \n",
            " 0   EQUIPE     1584 non-null   object \n",
            " 1   RODADA     1584 non-null   object \n",
            " 2   JOGADOR    1584 non-null   object \n",
            " 3   POSIÇÃO    1584 non-null   object \n",
            " 4   PONTUAÇÃO  1584 non-null   float64\n",
            " 5   CAPITÃO    1584 non-null   object \n",
            " 6   TIME       1579 non-null   object \n",
            "dtypes: float64(1), object(6)\n",
            "memory usage: 86.8+ KB\n"
          ],
          "name": "stdout"
        }
      ]
    },
    {
      "cell_type": "markdown",
      "metadata": {
        "id": "REmUIuTkQXXl"
      },
      "source": [
        "**TRATAMENTO DOS DADOS**"
      ]
    },
    {
      "cell_type": "markdown",
      "metadata": {
        "id": "dWd0ZH3fQLks"
      },
      "source": [
        "Tornando 'RODADA' um número inteiro:"
      ]
    },
    {
      "cell_type": "code",
      "metadata": {
        "colab": {
          "base_uri": "https://localhost:8080/",
          "height": 206
        },
        "id": "qpRCE46cQLHH",
        "outputId": "5c6b7a61-7537-4377-d236-1ac693d4eb22"
      },
      "source": [
        "rodadas = list(df['RODADA'])\n",
        "numero_rodada = [int(rodada.replace('RODADA', '')) for rodada in rodadas]\n",
        "df.RODADA = numero_rodada\n",
        "df.head()"
      ],
      "execution_count": 4,
      "outputs": [
        {
          "output_type": "execute_result",
          "data": {
            "text/html": [
              "<div>\n",
              "<style scoped>\n",
              "    .dataframe tbody tr th:only-of-type {\n",
              "        vertical-align: middle;\n",
              "    }\n",
              "\n",
              "    .dataframe tbody tr th {\n",
              "        vertical-align: top;\n",
              "    }\n",
              "\n",
              "    .dataframe thead th {\n",
              "        text-align: right;\n",
              "    }\n",
              "</style>\n",
              "<table border=\"1\" class=\"dataframe\">\n",
              "  <thead>\n",
              "    <tr style=\"text-align: right;\">\n",
              "      <th></th>\n",
              "      <th>EQUIPE</th>\n",
              "      <th>RODADA</th>\n",
              "      <th>JOGADOR</th>\n",
              "      <th>POSIÇÃO</th>\n",
              "      <th>PONTUAÇÃO</th>\n",
              "      <th>CAPITÃO</th>\n",
              "      <th>TIME</th>\n",
              "    </tr>\n",
              "  </thead>\n",
              "  <tbody>\n",
              "    <tr>\n",
              "      <th>0</th>\n",
              "      <td>Gigante de JF</td>\n",
              "      <td>33</td>\n",
              "      <td>RICHARD</td>\n",
              "      <td>GOLEIRO</td>\n",
              "      <td>-4.2</td>\n",
              "      <td>NÃO</td>\n",
              "      <td>CEARÁ</td>\n",
              "    </tr>\n",
              "    <tr>\n",
              "      <th>1</th>\n",
              "      <td>Gigante de JF</td>\n",
              "      <td>33</td>\n",
              "      <td>CALEGARI</td>\n",
              "      <td>LATERAL</td>\n",
              "      <td>5.8</td>\n",
              "      <td>NÃO</td>\n",
              "      <td>FLUMINENSE</td>\n",
              "    </tr>\n",
              "    <tr>\n",
              "      <th>2</th>\n",
              "      <td>Gigante de JF</td>\n",
              "      <td>33</td>\n",
              "      <td>GUILHERME ARANA</td>\n",
              "      <td>LATERAL</td>\n",
              "      <td>12.6</td>\n",
              "      <td>NÃO</td>\n",
              "      <td>ATLÉTICO MINEIRO</td>\n",
              "    </tr>\n",
              "    <tr>\n",
              "      <th>3</th>\n",
              "      <td>Gigante de JF</td>\n",
              "      <td>33</td>\n",
              "      <td>LUCCAS CLARO</td>\n",
              "      <td>ZAGUEIRO</td>\n",
              "      <td>5.6</td>\n",
              "      <td>NÃO</td>\n",
              "      <td>FLUMINENSE</td>\n",
              "    </tr>\n",
              "    <tr>\n",
              "      <th>4</th>\n",
              "      <td>Gigante de JF</td>\n",
              "      <td>33</td>\n",
              "      <td>JÚNIOR ALONSO</td>\n",
              "      <td>ZAGUEIRO</td>\n",
              "      <td>4.6</td>\n",
              "      <td>NÃO</td>\n",
              "      <td>ATLÉTICO MINEIRO</td>\n",
              "    </tr>\n",
              "  </tbody>\n",
              "</table>\n",
              "</div>"
            ],
            "text/plain": [
              "          EQUIPE  RODADA          JOGADOR  ... PONTUAÇÃO  CAPITÃO              TIME\n",
              "0  Gigante de JF      33          RICHARD  ...      -4.2      NÃO             CEARÁ\n",
              "1  Gigante de JF      33         CALEGARI  ...       5.8      NÃO        FLUMINENSE\n",
              "2  Gigante de JF      33  GUILHERME ARANA  ...      12.6      NÃO  ATLÉTICO MINEIRO\n",
              "3  Gigante de JF      33     LUCCAS CLARO  ...       5.6      NÃO        FLUMINENSE\n",
              "4  Gigante de JF      33    JÚNIOR ALONSO  ...       4.6      NÃO  ATLÉTICO MINEIRO\n",
              "\n",
              "[5 rows x 7 columns]"
            ]
          },
          "metadata": {
            "tags": []
          },
          "execution_count": 4
        }
      ]
    },
    {
      "cell_type": "markdown",
      "metadata": {
        "id": "wU7-1WKeQg1u"
      },
      "source": [
        "Checando se há escalado sem time:"
      ]
    },
    {
      "cell_type": "code",
      "metadata": {
        "colab": {
          "base_uri": "https://localhost:8080/",
          "height": 49
        },
        "id": "U_LW2aumQo6A",
        "outputId": "b8e3dcad-796b-45f8-bbdf-1d7685116ad4"
      },
      "source": [
        "df.loc[df.TIME == '']"
      ],
      "execution_count": 5,
      "outputs": [
        {
          "output_type": "execute_result",
          "data": {
            "text/html": [
              "<div>\n",
              "<style scoped>\n",
              "    .dataframe tbody tr th:only-of-type {\n",
              "        vertical-align: middle;\n",
              "    }\n",
              "\n",
              "    .dataframe tbody tr th {\n",
              "        vertical-align: top;\n",
              "    }\n",
              "\n",
              "    .dataframe thead th {\n",
              "        text-align: right;\n",
              "    }\n",
              "</style>\n",
              "<table border=\"1\" class=\"dataframe\">\n",
              "  <thead>\n",
              "    <tr style=\"text-align: right;\">\n",
              "      <th></th>\n",
              "      <th>EQUIPE</th>\n",
              "      <th>RODADA</th>\n",
              "      <th>JOGADOR</th>\n",
              "      <th>POSIÇÃO</th>\n",
              "      <th>PONTUAÇÃO</th>\n",
              "      <th>CAPITÃO</th>\n",
              "      <th>TIME</th>\n",
              "    </tr>\n",
              "  </thead>\n",
              "  <tbody>\n",
              "  </tbody>\n",
              "</table>\n",
              "</div>"
            ],
            "text/plain": [
              "Empty DataFrame\n",
              "Columns: [EQUIPE, RODADA, JOGADOR, POSIÇÃO, PONTUAÇÃO, CAPITÃO, TIME]\n",
              "Index: []"
            ]
          },
          "metadata": {
            "tags": []
          },
          "execution_count": 5
        }
      ]
    },
    {
      "cell_type": "markdown",
      "metadata": {
        "id": "44RSbpITQ3KY"
      },
      "source": [
        "Não há!"
      ]
    },
    {
      "cell_type": "markdown",
      "metadata": {
        "id": "ub0mch5GQ7U2"
      },
      "source": [
        "Tirando o dobro da pontuação dos capitães para não enviesar as análises:"
      ]
    },
    {
      "cell_type": "code",
      "metadata": {
        "colab": {
          "base_uri": "https://localhost:8080/",
          "height": 424
        },
        "id": "W0y1J5fCSMRg",
        "outputId": "b4dca9eb-12fa-4b1d-ecb8-e911d07c5bd0"
      },
      "source": [
        "df.loc[df['CAPITÃO'] == 'SIM']"
      ],
      "execution_count": 6,
      "outputs": [
        {
          "output_type": "execute_result",
          "data": {
            "text/html": [
              "<div>\n",
              "<style scoped>\n",
              "    .dataframe tbody tr th:only-of-type {\n",
              "        vertical-align: middle;\n",
              "    }\n",
              "\n",
              "    .dataframe tbody tr th {\n",
              "        vertical-align: top;\n",
              "    }\n",
              "\n",
              "    .dataframe thead th {\n",
              "        text-align: right;\n",
              "    }\n",
              "</style>\n",
              "<table border=\"1\" class=\"dataframe\">\n",
              "  <thead>\n",
              "    <tr style=\"text-align: right;\">\n",
              "      <th></th>\n",
              "      <th>EQUIPE</th>\n",
              "      <th>RODADA</th>\n",
              "      <th>JOGADOR</th>\n",
              "      <th>POSIÇÃO</th>\n",
              "      <th>PONTUAÇÃO</th>\n",
              "      <th>CAPITÃO</th>\n",
              "      <th>TIME</th>\n",
              "    </tr>\n",
              "  </thead>\n",
              "  <tbody>\n",
              "    <tr>\n",
              "      <th>7</th>\n",
              "      <td>Gigante de JF</td>\n",
              "      <td>33</td>\n",
              "      <td>VINA</td>\n",
              "      <td>MEIA</td>\n",
              "      <td>8.0</td>\n",
              "      <td>SIM</td>\n",
              "      <td>CEARÁ</td>\n",
              "    </tr>\n",
              "    <tr>\n",
              "      <th>22</th>\n",
              "      <td>Gigante de JF</td>\n",
              "      <td>32</td>\n",
              "      <td>MARINHO</td>\n",
              "      <td>ATACANTE</td>\n",
              "      <td>30.2</td>\n",
              "      <td>SIM</td>\n",
              "      <td>SANTOS</td>\n",
              "    </tr>\n",
              "    <tr>\n",
              "      <th>33</th>\n",
              "      <td>Gigante de JF</td>\n",
              "      <td>31</td>\n",
              "      <td>CLAUDINHO</td>\n",
              "      <td>ATACANTE</td>\n",
              "      <td>46.4</td>\n",
              "      <td>SIM</td>\n",
              "      <td>BRAGANTINO</td>\n",
              "    </tr>\n",
              "    <tr>\n",
              "      <th>44</th>\n",
              "      <td>Gigante de JF</td>\n",
              "      <td>30</td>\n",
              "      <td>MARINHO</td>\n",
              "      <td>ATACANTE</td>\n",
              "      <td>24.4</td>\n",
              "      <td>SIM</td>\n",
              "      <td>SANTOS</td>\n",
              "    </tr>\n",
              "    <tr>\n",
              "      <th>57</th>\n",
              "      <td>Gigante de JF</td>\n",
              "      <td>29</td>\n",
              "      <td>BRENNER</td>\n",
              "      <td>ATACANTE</td>\n",
              "      <td>9.6</td>\n",
              "      <td>SIM</td>\n",
              "      <td>SÃO PAULO</td>\n",
              "    </tr>\n",
              "    <tr>\n",
              "      <th>...</th>\n",
              "      <td>...</td>\n",
              "      <td>...</td>\n",
              "      <td>...</td>\n",
              "      <td>...</td>\n",
              "      <td>...</td>\n",
              "      <td>...</td>\n",
              "      <td>...</td>\n",
              "    </tr>\n",
              "    <tr>\n",
              "      <th>1532</th>\n",
              "      <td>Unichampions</td>\n",
              "      <td>5</td>\n",
              "      <td>GREGORE</td>\n",
              "      <td>MEIA</td>\n",
              "      <td>-4.4</td>\n",
              "      <td>SIM</td>\n",
              "      <td>BAHIA</td>\n",
              "    </tr>\n",
              "    <tr>\n",
              "      <th>1545</th>\n",
              "      <td>Unichampions</td>\n",
              "      <td>4</td>\n",
              "      <td>JÔ</td>\n",
              "      <td>ATACANTE</td>\n",
              "      <td>14.2</td>\n",
              "      <td>SIM</td>\n",
              "      <td>CORINTHIANS</td>\n",
              "    </tr>\n",
              "    <tr>\n",
              "      <th>1558</th>\n",
              "      <td>Unichampions</td>\n",
              "      <td>3</td>\n",
              "      <td>ÉLBER</td>\n",
              "      <td>ATACANTE</td>\n",
              "      <td>18.6</td>\n",
              "      <td>SIM</td>\n",
              "      <td>BAHIA</td>\n",
              "    </tr>\n",
              "    <tr>\n",
              "      <th>1566</th>\n",
              "      <td>Unichampions</td>\n",
              "      <td>2</td>\n",
              "      <td>IGOR GOMES</td>\n",
              "      <td>MEIA</td>\n",
              "      <td>-4.2</td>\n",
              "      <td>SIM</td>\n",
              "      <td>SÃO PAULO</td>\n",
              "    </tr>\n",
              "    <tr>\n",
              "      <th>1578</th>\n",
              "      <td>Unichampions</td>\n",
              "      <td>1</td>\n",
              "      <td>IGOR GOMES</td>\n",
              "      <td>MEIA</td>\n",
              "      <td>0.0</td>\n",
              "      <td>SIM</td>\n",
              "      <td>SÃO PAULO</td>\n",
              "    </tr>\n",
              "  </tbody>\n",
              "</table>\n",
              "<p>132 rows × 7 columns</p>\n",
              "</div>"
            ],
            "text/plain": [
              "             EQUIPE  RODADA     JOGADOR  ... PONTUAÇÃO  CAPITÃO         TIME\n",
              "7     Gigante de JF      33        VINA  ...       8.0      SIM        CEARÁ\n",
              "22    Gigante de JF      32     MARINHO  ...      30.2      SIM       SANTOS\n",
              "33    Gigante de JF      31   CLAUDINHO  ...      46.4      SIM   BRAGANTINO\n",
              "44    Gigante de JF      30     MARINHO  ...      24.4      SIM       SANTOS\n",
              "57    Gigante de JF      29     BRENNER  ...       9.6      SIM    SÃO PAULO\n",
              "...             ...     ...         ...  ...       ...      ...          ...\n",
              "1532   Unichampions       5     GREGORE  ...      -4.4      SIM        BAHIA\n",
              "1545   Unichampions       4          JÔ  ...      14.2      SIM  CORINTHIANS\n",
              "1558   Unichampions       3       ÉLBER  ...      18.6      SIM        BAHIA\n",
              "1566   Unichampions       2  IGOR GOMES  ...      -4.2      SIM    SÃO PAULO\n",
              "1578   Unichampions       1  IGOR GOMES  ...       0.0      SIM    SÃO PAULO\n",
              "\n",
              "[132 rows x 7 columns]"
            ]
          },
          "metadata": {
            "tags": []
          },
          "execution_count": 6
        }
      ]
    },
    {
      "cell_type": "code",
      "metadata": {
        "id": "gmoPIlt6RtmB"
      },
      "source": [
        "def tira_dobro(x):\n",
        "  return x/2"
      ],
      "execution_count": 7,
      "outputs": []
    },
    {
      "cell_type": "code",
      "metadata": {
        "colab": {
          "base_uri": "https://localhost:8080/"
        },
        "id": "Hw_H5-YiPmQF",
        "outputId": "547b14c5-bbeb-4529-ceaf-8d8fb5628c69"
      },
      "source": [
        "df['PONTUAÇÃO'].loc[df['CAPITÃO'] == 'SIM'] = list(map(tira_dobro, list(df['PONTUAÇÃO'].loc[df['CAPITÃO'] == 'SIM'])))"
      ],
      "execution_count": 8,
      "outputs": [
        {
          "output_type": "stream",
          "text": [
            "/usr/local/lib/python3.6/dist-packages/pandas/core/indexing.py:670: SettingWithCopyWarning: \n",
            "A value is trying to be set on a copy of a slice from a DataFrame\n",
            "\n",
            "See the caveats in the documentation: https://pandas.pydata.org/pandas-docs/stable/user_guide/indexing.html#returning-a-view-versus-a-copy\n",
            "  iloc._setitem_with_indexer(indexer, value)\n"
          ],
          "name": "stderr"
        }
      ]
    },
    {
      "cell_type": "code",
      "metadata": {
        "colab": {
          "base_uri": "https://localhost:8080/",
          "height": 424
        },
        "id": "X2AZL8P5Sqhe",
        "outputId": "8e139ea4-7bc1-4423-a439-dd97388b3cf0"
      },
      "source": [
        "df.loc[df['CAPITÃO'] == 'SIM']"
      ],
      "execution_count": 9,
      "outputs": [
        {
          "output_type": "execute_result",
          "data": {
            "text/html": [
              "<div>\n",
              "<style scoped>\n",
              "    .dataframe tbody tr th:only-of-type {\n",
              "        vertical-align: middle;\n",
              "    }\n",
              "\n",
              "    .dataframe tbody tr th {\n",
              "        vertical-align: top;\n",
              "    }\n",
              "\n",
              "    .dataframe thead th {\n",
              "        text-align: right;\n",
              "    }\n",
              "</style>\n",
              "<table border=\"1\" class=\"dataframe\">\n",
              "  <thead>\n",
              "    <tr style=\"text-align: right;\">\n",
              "      <th></th>\n",
              "      <th>EQUIPE</th>\n",
              "      <th>RODADA</th>\n",
              "      <th>JOGADOR</th>\n",
              "      <th>POSIÇÃO</th>\n",
              "      <th>PONTUAÇÃO</th>\n",
              "      <th>CAPITÃO</th>\n",
              "      <th>TIME</th>\n",
              "    </tr>\n",
              "  </thead>\n",
              "  <tbody>\n",
              "    <tr>\n",
              "      <th>7</th>\n",
              "      <td>Gigante de JF</td>\n",
              "      <td>33</td>\n",
              "      <td>VINA</td>\n",
              "      <td>MEIA</td>\n",
              "      <td>4.0</td>\n",
              "      <td>SIM</td>\n",
              "      <td>CEARÁ</td>\n",
              "    </tr>\n",
              "    <tr>\n",
              "      <th>22</th>\n",
              "      <td>Gigante de JF</td>\n",
              "      <td>32</td>\n",
              "      <td>MARINHO</td>\n",
              "      <td>ATACANTE</td>\n",
              "      <td>15.1</td>\n",
              "      <td>SIM</td>\n",
              "      <td>SANTOS</td>\n",
              "    </tr>\n",
              "    <tr>\n",
              "      <th>33</th>\n",
              "      <td>Gigante de JF</td>\n",
              "      <td>31</td>\n",
              "      <td>CLAUDINHO</td>\n",
              "      <td>ATACANTE</td>\n",
              "      <td>23.2</td>\n",
              "      <td>SIM</td>\n",
              "      <td>BRAGANTINO</td>\n",
              "    </tr>\n",
              "    <tr>\n",
              "      <th>44</th>\n",
              "      <td>Gigante de JF</td>\n",
              "      <td>30</td>\n",
              "      <td>MARINHO</td>\n",
              "      <td>ATACANTE</td>\n",
              "      <td>12.2</td>\n",
              "      <td>SIM</td>\n",
              "      <td>SANTOS</td>\n",
              "    </tr>\n",
              "    <tr>\n",
              "      <th>57</th>\n",
              "      <td>Gigante de JF</td>\n",
              "      <td>29</td>\n",
              "      <td>BRENNER</td>\n",
              "      <td>ATACANTE</td>\n",
              "      <td>4.8</td>\n",
              "      <td>SIM</td>\n",
              "      <td>SÃO PAULO</td>\n",
              "    </tr>\n",
              "    <tr>\n",
              "      <th>...</th>\n",
              "      <td>...</td>\n",
              "      <td>...</td>\n",
              "      <td>...</td>\n",
              "      <td>...</td>\n",
              "      <td>...</td>\n",
              "      <td>...</td>\n",
              "      <td>...</td>\n",
              "    </tr>\n",
              "    <tr>\n",
              "      <th>1532</th>\n",
              "      <td>Unichampions</td>\n",
              "      <td>5</td>\n",
              "      <td>GREGORE</td>\n",
              "      <td>MEIA</td>\n",
              "      <td>-2.2</td>\n",
              "      <td>SIM</td>\n",
              "      <td>BAHIA</td>\n",
              "    </tr>\n",
              "    <tr>\n",
              "      <th>1545</th>\n",
              "      <td>Unichampions</td>\n",
              "      <td>4</td>\n",
              "      <td>JÔ</td>\n",
              "      <td>ATACANTE</td>\n",
              "      <td>7.1</td>\n",
              "      <td>SIM</td>\n",
              "      <td>CORINTHIANS</td>\n",
              "    </tr>\n",
              "    <tr>\n",
              "      <th>1558</th>\n",
              "      <td>Unichampions</td>\n",
              "      <td>3</td>\n",
              "      <td>ÉLBER</td>\n",
              "      <td>ATACANTE</td>\n",
              "      <td>9.3</td>\n",
              "      <td>SIM</td>\n",
              "      <td>BAHIA</td>\n",
              "    </tr>\n",
              "    <tr>\n",
              "      <th>1566</th>\n",
              "      <td>Unichampions</td>\n",
              "      <td>2</td>\n",
              "      <td>IGOR GOMES</td>\n",
              "      <td>MEIA</td>\n",
              "      <td>-2.1</td>\n",
              "      <td>SIM</td>\n",
              "      <td>SÃO PAULO</td>\n",
              "    </tr>\n",
              "    <tr>\n",
              "      <th>1578</th>\n",
              "      <td>Unichampions</td>\n",
              "      <td>1</td>\n",
              "      <td>IGOR GOMES</td>\n",
              "      <td>MEIA</td>\n",
              "      <td>0.0</td>\n",
              "      <td>SIM</td>\n",
              "      <td>SÃO PAULO</td>\n",
              "    </tr>\n",
              "  </tbody>\n",
              "</table>\n",
              "<p>132 rows × 7 columns</p>\n",
              "</div>"
            ],
            "text/plain": [
              "             EQUIPE  RODADA     JOGADOR  ... PONTUAÇÃO  CAPITÃO         TIME\n",
              "7     Gigante de JF      33        VINA  ...       4.0      SIM        CEARÁ\n",
              "22    Gigante de JF      32     MARINHO  ...      15.1      SIM       SANTOS\n",
              "33    Gigante de JF      31   CLAUDINHO  ...      23.2      SIM   BRAGANTINO\n",
              "44    Gigante de JF      30     MARINHO  ...      12.2      SIM       SANTOS\n",
              "57    Gigante de JF      29     BRENNER  ...       4.8      SIM    SÃO PAULO\n",
              "...             ...     ...         ...  ...       ...      ...          ...\n",
              "1532   Unichampions       5     GREGORE  ...      -2.2      SIM        BAHIA\n",
              "1545   Unichampions       4          JÔ  ...       7.1      SIM  CORINTHIANS\n",
              "1558   Unichampions       3       ÉLBER  ...       9.3      SIM        BAHIA\n",
              "1566   Unichampions       2  IGOR GOMES  ...      -2.1      SIM    SÃO PAULO\n",
              "1578   Unichampions       1  IGOR GOMES  ...       0.0      SIM    SÃO PAULO\n",
              "\n",
              "[132 rows x 7 columns]"
            ]
          },
          "metadata": {
            "tags": []
          },
          "execution_count": 9
        }
      ]
    },
    {
      "cell_type": "code",
      "metadata": {
        "colab": {
          "base_uri": "https://localhost:8080/",
          "height": 426
        },
        "id": "BAl36skKSxr6",
        "outputId": "46d99a11-ada0-4ce8-d356-478269d2dffc"
      },
      "source": [
        "df.head(12)"
      ],
      "execution_count": 10,
      "outputs": [
        {
          "output_type": "execute_result",
          "data": {
            "text/html": [
              "<div>\n",
              "<style scoped>\n",
              "    .dataframe tbody tr th:only-of-type {\n",
              "        vertical-align: middle;\n",
              "    }\n",
              "\n",
              "    .dataframe tbody tr th {\n",
              "        vertical-align: top;\n",
              "    }\n",
              "\n",
              "    .dataframe thead th {\n",
              "        text-align: right;\n",
              "    }\n",
              "</style>\n",
              "<table border=\"1\" class=\"dataframe\">\n",
              "  <thead>\n",
              "    <tr style=\"text-align: right;\">\n",
              "      <th></th>\n",
              "      <th>EQUIPE</th>\n",
              "      <th>RODADA</th>\n",
              "      <th>JOGADOR</th>\n",
              "      <th>POSIÇÃO</th>\n",
              "      <th>PONTUAÇÃO</th>\n",
              "      <th>CAPITÃO</th>\n",
              "      <th>TIME</th>\n",
              "    </tr>\n",
              "  </thead>\n",
              "  <tbody>\n",
              "    <tr>\n",
              "      <th>0</th>\n",
              "      <td>Gigante de JF</td>\n",
              "      <td>33</td>\n",
              "      <td>RICHARD</td>\n",
              "      <td>GOLEIRO</td>\n",
              "      <td>-4.20</td>\n",
              "      <td>NÃO</td>\n",
              "      <td>CEARÁ</td>\n",
              "    </tr>\n",
              "    <tr>\n",
              "      <th>1</th>\n",
              "      <td>Gigante de JF</td>\n",
              "      <td>33</td>\n",
              "      <td>CALEGARI</td>\n",
              "      <td>LATERAL</td>\n",
              "      <td>5.80</td>\n",
              "      <td>NÃO</td>\n",
              "      <td>FLUMINENSE</td>\n",
              "    </tr>\n",
              "    <tr>\n",
              "      <th>2</th>\n",
              "      <td>Gigante de JF</td>\n",
              "      <td>33</td>\n",
              "      <td>GUILHERME ARANA</td>\n",
              "      <td>LATERAL</td>\n",
              "      <td>12.60</td>\n",
              "      <td>NÃO</td>\n",
              "      <td>ATLÉTICO MINEIRO</td>\n",
              "    </tr>\n",
              "    <tr>\n",
              "      <th>3</th>\n",
              "      <td>Gigante de JF</td>\n",
              "      <td>33</td>\n",
              "      <td>LUCCAS CLARO</td>\n",
              "      <td>ZAGUEIRO</td>\n",
              "      <td>5.60</td>\n",
              "      <td>NÃO</td>\n",
              "      <td>FLUMINENSE</td>\n",
              "    </tr>\n",
              "    <tr>\n",
              "      <th>4</th>\n",
              "      <td>Gigante de JF</td>\n",
              "      <td>33</td>\n",
              "      <td>JÚNIOR ALONSO</td>\n",
              "      <td>ZAGUEIRO</td>\n",
              "      <td>4.60</td>\n",
              "      <td>NÃO</td>\n",
              "      <td>ATLÉTICO MINEIRO</td>\n",
              "    </tr>\n",
              "    <tr>\n",
              "      <th>5</th>\n",
              "      <td>Gigante de JF</td>\n",
              "      <td>33</td>\n",
              "      <td>EDENÍLSON</td>\n",
              "      <td>MEIA</td>\n",
              "      <td>9.80</td>\n",
              "      <td>NÃO</td>\n",
              "      <td>INTERNACIONAL</td>\n",
              "    </tr>\n",
              "    <tr>\n",
              "      <th>6</th>\n",
              "      <td>Gigante de JF</td>\n",
              "      <td>33</td>\n",
              "      <td>HYORAN</td>\n",
              "      <td>MEIA</td>\n",
              "      <td>6.70</td>\n",
              "      <td>NÃO</td>\n",
              "      <td>ATLÉTICO MINEIRO</td>\n",
              "    </tr>\n",
              "    <tr>\n",
              "      <th>7</th>\n",
              "      <td>Gigante de JF</td>\n",
              "      <td>33</td>\n",
              "      <td>VINA</td>\n",
              "      <td>MEIA</td>\n",
              "      <td>4.00</td>\n",
              "      <td>SIM</td>\n",
              "      <td>CEARÁ</td>\n",
              "    </tr>\n",
              "    <tr>\n",
              "      <th>8</th>\n",
              "      <td>Gigante de JF</td>\n",
              "      <td>33</td>\n",
              "      <td>EDUARDO SASHA</td>\n",
              "      <td>ATACANTE</td>\n",
              "      <td>1.80</td>\n",
              "      <td>NÃO</td>\n",
              "      <td>ATLÉTICO MINEIRO</td>\n",
              "    </tr>\n",
              "    <tr>\n",
              "      <th>9</th>\n",
              "      <td>Gigante de JF</td>\n",
              "      <td>33</td>\n",
              "      <td>CANO</td>\n",
              "      <td>ATACANTE</td>\n",
              "      <td>1.50</td>\n",
              "      <td>NÃO</td>\n",
              "      <td>VASCO</td>\n",
              "    </tr>\n",
              "    <tr>\n",
              "      <th>10</th>\n",
              "      <td>Gigante de JF</td>\n",
              "      <td>33</td>\n",
              "      <td>YURI ALBERTO</td>\n",
              "      <td>ATACANTE</td>\n",
              "      <td>-0.20</td>\n",
              "      <td>NÃO</td>\n",
              "      <td>INTERNACIONAL</td>\n",
              "    </tr>\n",
              "    <tr>\n",
              "      <th>11</th>\n",
              "      <td>Gigante de JF</td>\n",
              "      <td>33</td>\n",
              "      <td>GUTO FERREIRA</td>\n",
              "      <td>TÉCNICO</td>\n",
              "      <td>2.41</td>\n",
              "      <td>NÃO</td>\n",
              "      <td>CEARÁ</td>\n",
              "    </tr>\n",
              "  </tbody>\n",
              "</table>\n",
              "</div>"
            ],
            "text/plain": [
              "           EQUIPE  RODADA          JOGADOR  ... PONTUAÇÃO  CAPITÃO              TIME\n",
              "0   Gigante de JF      33          RICHARD  ...     -4.20      NÃO             CEARÁ\n",
              "1   Gigante de JF      33         CALEGARI  ...      5.80      NÃO        FLUMINENSE\n",
              "2   Gigante de JF      33  GUILHERME ARANA  ...     12.60      NÃO  ATLÉTICO MINEIRO\n",
              "3   Gigante de JF      33     LUCCAS CLARO  ...      5.60      NÃO        FLUMINENSE\n",
              "4   Gigante de JF      33    JÚNIOR ALONSO  ...      4.60      NÃO  ATLÉTICO MINEIRO\n",
              "5   Gigante de JF      33        EDENÍLSON  ...      9.80      NÃO     INTERNACIONAL\n",
              "6   Gigante de JF      33           HYORAN  ...      6.70      NÃO  ATLÉTICO MINEIRO\n",
              "7   Gigante de JF      33             VINA  ...      4.00      SIM             CEARÁ\n",
              "8   Gigante de JF      33    EDUARDO SASHA  ...      1.80      NÃO  ATLÉTICO MINEIRO\n",
              "9   Gigante de JF      33             CANO  ...      1.50      NÃO             VASCO\n",
              "10  Gigante de JF      33     YURI ALBERTO  ...     -0.20      NÃO     INTERNACIONAL\n",
              "11  Gigante de JF      33    GUTO FERREIRA  ...      2.41      NÃO             CEARÁ\n",
              "\n",
              "[12 rows x 7 columns]"
            ]
          },
          "metadata": {
            "tags": []
          },
          "execution_count": 10
        }
      ]
    },
    {
      "cell_type": "code",
      "metadata": {
        "id": "RMUp_hiTTXmv"
      },
      "source": [
        "times = np.unique(list(df['TIME']))\n",
        "vezes_que_aparece_no_df = []\n",
        "for time in times[:-1]:\n",
        "  vezes_que_aparece_no_df.append(df['TIME'].loc[df.TIME == time].count())\n",
        "\n",
        "times_vezes = []\n",
        "for i in range(len(times[:-1])):\n",
        "  time_vez = (times[i], vezes_que_aparece_no_df[i])\n",
        "  times_vezes.append(time_vez)"
      ],
      "execution_count": 11,
      "outputs": []
    },
    {
      "cell_type": "code",
      "metadata": {
        "id": "NPO5W2NcWylz"
      },
      "source": [
        "t_v_em_ordem = sorted(times_vezes, reverse=True, key=lambda tup: tup[1])"
      ],
      "execution_count": 12,
      "outputs": []
    },
    {
      "cell_type": "code",
      "metadata": {
        "colab": {
          "base_uri": "https://localhost:8080/",
          "height": 396
        },
        "id": "phqmhnNCWFMb",
        "outputId": "9fcc286b-1649-4d48-c6fc-638db10e4812"
      },
      "source": [
        "#tirando_a_tupla_de_t_v\n",
        "t = []\n",
        "v = []\n",
        "for i in range(len(t_v_em_ordem)):\n",
        "  t.append(t_v_em_ordem[i][0])\n",
        "  v.append(t_v_em_ordem[i][1])\n",
        "\n",
        "plt.ylabel('Vezes escalado')\n",
        "N = len(t)\n",
        "ind = np.arange(N)\n",
        "plt.xticks(ind, t, rotation='vertical')\n",
        "plt.yticks(np.arange(0, max(v)+2, 20))\n",
        "plt.title('Vezes que um time foi escalado entre os times sérios')\n",
        "plt.bar(t, v, color=['blue', 'yellow', 'green', 'purple',\n",
        "                     'aqua', 'navajowhite', 'black', 'brown',\n",
        "                     'palegreen', 'darkolivegreen', 'deepskyblue', 'red',\n",
        "                     'magenta', 'navy', 'greenyellow', 'pink',\n",
        "                     'peachpuff', 'thistle', 'grey', 'gold'])\n",
        "plt.show()"
      ],
      "execution_count": 13,
      "outputs": [
        {
          "output_type": "display_data",
          "data": {
            "image/png": "[encoded data removed]",
            "text/plain": [
              "<Figure size 432x288 with 1 Axes>"
            ]
          },
          "metadata": {
            "tags": [],
            "needs_background": "light"
          }
        }
      ]
    },
    {
      "cell_type": "code",
      "metadata": {
        "id": "382iiFpwkoE1"
      },
      "source": [
        "capitaes = np.unique(list(df['JOGADOR'].loc[df['CAPITÃO'] == 'SIM']))\n",
        "\n",
        "vezes_capitao = []\n",
        "for capitao in capitaes:\n",
        "  vezes_capitao.append((capitao, df['JOGADOR'].loc[(df['JOGADOR'] == capitao) & \n",
        "                                                   (df['CAPITÃO'] == 'SIM')].count()))"
      ],
      "execution_count": 14,
      "outputs": []
    },
    {
      "cell_type": "code",
      "metadata": {
        "id": "NjmLjK40mTG8"
      },
      "source": [
        "vezes_capitao = sorted(vezes_capitao, reverse=True, key=lambda tup: tup[1])"
      ],
      "execution_count": 15,
      "outputs": []
    },
    {
      "cell_type": "code",
      "metadata": {
        "colab": {
          "base_uri": "https://localhost:8080/",
          "height": 370
        },
        "id": "Z_NiJjG_mctH",
        "outputId": "8baa9c59-f80f-46e3-d1a9-8440e9ceb595"
      },
      "source": [
        "cap = []\n",
        "vez = []\n",
        "for i in range(len(vezes_capitao)):\n",
        "  cap.append(vezes_capitao[i][0])\n",
        "  vez.append(vezes_capitao[i][1])\n",
        "\n",
        "plt.ylabel('Vezes capitão')\n",
        "N = len(cap[:12])\n",
        "ind = np.arange(N)\n",
        "plt.xticks(ind, cap[:12], rotation='vertical')\n",
        "plt.yticks(np.arange(0, max(vez[:12])+2, 5))\n",
        "plt.title('Os 12 capitães mais escalados')\n",
        "plt.bar(cap[:12], vez[:12], color=['blue', 'yellow', 'green', 'purple',\n",
        "                     'aqua', 'navajowhite', 'black', 'brown',\n",
        "                     'palegreen', 'darkolivegreen', 'deepskyblue', 'red',\n",
        "                     'magenta', 'navy', 'greenyellow', 'pink',\n",
        "                     'peachpuff', 'thistle', 'grey', 'gold'])\n",
        "plt.show()"
      ],
      "execution_count": 16,
      "outputs": [
        {
          "output_type": "display_data",
          "data": {
            "image/png": "[encoded data removed]",
            "text/plain": [
              "<Figure size 432x288 with 1 Axes>"
            ]
          },
          "metadata": {
            "tags": [],
            "needs_background": "light"
          }
        }
      ]
    },
    {
      "cell_type": "code",
      "metadata": {
        "id": "xK_WRVTyn0vy"
      },
      "source": [
        "times = np.unique(list(df['TIME'].loc[df['CAPITÃO'] == 'SIM']))\n",
        "\n",
        "vezes_capitao = []\n",
        "for time in times:\n",
        "  vezes_capitao.append((time, df['TIME'].loc[(df['TIME'] == time) & \n",
        "                                                   (df['CAPITÃO'] == 'SIM')].count()))"
      ],
      "execution_count": 18,
      "outputs": []
    },
    {
      "cell_type": "code",
      "metadata": {
        "id": "aDooU_g7po6d"
      },
      "source": [
        "vezes_capitao = sorted(vezes_capitao, reverse=True, key=lambda tup: tup[1])"
      ],
      "execution_count": 20,
      "outputs": []
    },
    {
      "cell_type": "code",
      "metadata": {
        "id": "ayBHKVDopsuV",
        "outputId": "e8bd268c-bc71-4388-e84d-b8389c3a0fe4",
        "colab": {
          "base_uri": "https://localhost:8080/",
          "height": 365
        }
      },
      "source": [
        "cap = []\n",
        "vez = []\n",
        "for i in range(len(vezes_capitao)):\n",
        "  cap.append(vezes_capitao[i][0])\n",
        "  vez.append(vezes_capitao[i][1])\n",
        "\n",
        "plt.ylabel('Vezes com capitão')\n",
        "N = len(cap[:12])\n",
        "ind = np.arange(N)\n",
        "plt.xticks(ind, cap[:12], rotation='vertical')\n",
        "plt.yticks(np.arange(0, max(vez[:12])+2, 5))\n",
        "plt.title('Os 12 times com mais capitães')\n",
        "plt.bar(cap[:12], vez[:12], color=['blue', 'yellow', 'green', 'purple',\n",
        "                     'aqua', 'navajowhite', 'black', 'brown',\n",
        "                     'palegreen', 'darkolivegreen', 'deepskyblue', 'red',\n",
        "                     'magenta', 'navy', 'greenyellow', 'pink',\n",
        "                     'peachpuff', 'thistle', 'grey', 'gold'])\n",
        "plt.show()"
      ],
      "execution_count": 22,
      "outputs": [
        {
          "output_type": "display_data",
          "data": {
            "image/png": "[encoded data removed]",
            "text/plain": [
              "<Figure size 432x288 with 1 Axes>"
            ]
          },
          "metadata": {
            "tags": [],
            "needs_background": "light"
          }
        }
      ]
    },
    {
      "cell_type": "code",
      "metadata": {
        "id": "QoVfX0ozrE9e"
      },
      "source": [
        "def plot_times_escalados(equipe):\n",
        "  times = np.unique(list(df['TIME'].loc[(df['EQUIPE'] == equipe)]))\n",
        "\n",
        "  plot_data = []\n",
        "  for time in times:\n",
        "    plot_data.append((time, df['TIME'].loc[(df['EQUIPE'] == equipe) & (df['TIME'] == time)].count()))\n",
        "\n",
        "  plot_data = sorted(plot_data, reverse=True, key=lambda tup: tup[1])\n",
        "  time = []\n",
        "  vez = []\n",
        "\n",
        "  for i in range(len(plot_data)):\n",
        "    time.append(plot_data[i][0])\n",
        "    vez.append(plot_data[i][1])\n",
        "\n",
        "\n",
        "  plt.ylabel('Vezes escalado')\n",
        "  N = len(time[:12])\n",
        "  ind = np.arange(N)\n",
        "  plt.xticks(ind, time[:12], rotation='vertical')\n",
        "  plt.yticks(np.arange(0, max(vez[:12])+2, 5))\n",
        "  plt.title('Os 12 times mais escalados ({})'.format(equipe))\n",
        "  plt.bar(time[:12], vez[:12], color=['blue', 'yellow', 'green', 'purple',\n",
        "                      'aqua', 'navajowhite', 'black', 'brown',\n",
        "                      'palegreen', 'darkolivegreen', 'deepskyblue', 'red',\n",
        "                      'magenta', 'navy', 'greenyellow', 'pink',\n",
        "                      'peachpuff', 'thistle', 'grey', 'gold'])\n",
        "  plt.show()"
      ],
      "execution_count": 35,
      "outputs": []
    },
    {
      "cell_type": "code",
      "metadata": {
        "id": "vvSC1SyIv2xz",
        "outputId": "89dd398e-5dcc-4676-fb52-8ff9abd718d3",
        "colab": {
          "base_uri": "https://localhost:8080/",
          "height": 1000
        }
      },
      "source": [
        "plot_times_escalados('Unichampions')\n",
        "plot_times_escalados('Caio do Céu')\n",
        "plot_times_escalados('Gigante de JF')\n",
        "plot_times_escalados('Vanculotte Atiantino')"
      ],
      "execution_count": 36,
      "outputs": [
        {
          "output_type": "display_data",
          "data": {
            "image/png": "[encoded data removed]",
            "text/plain": [
              "<Figure size 432x288 with 1 Axes>"
            ]
          },
          "metadata": {
            "tags": [],
            "needs_background": "light"
          }
        },
        {
          "output_type": "display_data",
          "data": {
            "image/png": "[encoded data removed]",
            "text/plain": [
              "<Figure size 432x288 with 1 Axes>"
            ]
          },
          "metadata": {
            "tags": [],
            "needs_background": "light"
          }
        },
        {
          "output_type": "display_data",
          "data": {
            "image/png": "[encoded data removed]",
            "text/plain": [
              "<Figure size 432x288 with 1 Axes>"
            ]
          },
          "metadata": {
            "tags": [],
            "needs_background": "light"
          }
        },
        {
          "output_type": "display_data",
          "data": {
            "image/png": "[encoded data removed]",
            "text/plain": [
              "<Figure size 432x288 with 1 Axes>"
            ]
          },
          "metadata": {
            "tags": [],
            "needs_background": "light"
          }
        }
      ]
    },
    {
      "cell_type": "code",
      "metadata": {
        "id": "ShNOhDoxyW7N"
      },
      "source": [
        "def plot_jogadores(time, equipe):\n",
        "  tam = 12\n",
        "  jogs = np.unique(list(df['JOGADOR'].loc[(df.EQUIPE == equipe) & (df.TIME == time)]))\n",
        "  if len(jogs) < 12:\n",
        "    tam = len(jogs)\n",
        "  plot_data = []\n",
        "  for jog in jogs:\n",
        "    plot_data.append((jog, df['JOGADOR'].loc[(df['EQUIPE'] == equipe) & (df['JOGADOR'] == jog)].count()))\n",
        "\n",
        "\n",
        "\n",
        "  plot_data = sorted(plot_data, reverse=True, key=lambda tup: tup[1])\n",
        "  j = []\n",
        "  vez = []\n",
        "\n",
        "  for i in range(len(plot_data)):\n",
        "    j.append(plot_data[i][0])\n",
        "    vez.append(plot_data[i][1])\n",
        "\n",
        "\n",
        "  plt.ylabel('Vezes escalado')\n",
        "  N = len(j[:tam])\n",
        "  ind = np.arange(N)\n",
        "  plt.xticks(ind, j[:tam], rotation='vertical')\n",
        "  plt.yticks(np.arange(0, max(vez[:tam])+2, 1))\n",
        "  plt.title('Os {} jogadores mais escalados do {} ({})'.format(tam, time, equipe))\n",
        "  plt.bar(j[:tam], vez[:tam], color=['blue', 'yellow', 'green', 'purple',\n",
        "                      'aqua', 'navajowhite', 'black', 'brown',\n",
        "                      'palegreen', 'darkolivegreen', 'deepskyblue', 'red',\n",
        "                      'magenta', 'navy', 'greenyellow', 'pink',\n",
        "                      'peachpuff', 'thistle', 'grey', 'gold'])\n",
        "  plt.show()"
      ],
      "execution_count": 56,
      "outputs": []
    },
    {
      "cell_type": "code",
      "metadata": {
        "id": "V-H5ftfP0llp",
        "outputId": "9a248da1-d825-4fb7-d9ae-1c175b4aae66",
        "colab": {
          "base_uri": "https://localhost:8080/",
          "height": 376
        }
      },
      "source": [
        "plot_jogadores('CORINTHIANS', 'Gigante de JF')"
      ],
      "execution_count": 57,
      "outputs": [
        {
          "output_type": "display_data",
          "data": {
            "image/png": "[encoded data removed]",
            "text/plain": [
              "<Figure size 432x288 with 1 Axes>"
            ]
          },
          "metadata": {
            "tags": [],
            "needs_background": "light"
          }
        }
      ]
    },
    {
      "cell_type": "code",
      "metadata": {
        "id": "FU3f-GGP2lpb",
        "outputId": "639ca18b-38cb-4dba-e0ee-db1e3579cafc",
        "colab": {
          "base_uri": "https://localhost:8080/",
          "height": 376
        }
      },
      "source": [
        "plot_jogadores('CORINTHIANS', 'Vanculotte Atiantino')"
      ],
      "execution_count": 51,
      "outputs": [
        {
          "output_type": "display_data",
          "data": {
            "image/png": "[encoded data removed]",
            "text/plain": [
              "<Figure size 432x288 with 1 Axes>"
            ]
          },
          "metadata": {
            "tags": [],
            "needs_background": "light"
          }
        }
      ]
    },
    {
      "cell_type": "code",
      "metadata": {
        "id": "R805qnLb3iAm",
        "outputId": "b520f051-c696-4b74-c505-08dc3dc8d42c",
        "colab": {
          "base_uri": "https://localhost:8080/",
          "height": 364
        }
      },
      "source": [
        "plot_jogadores('PALMEIRAS', 'Unichampions')"
      ],
      "execution_count": 58,
      "outputs": [
        {
          "output_type": "display_data",
          "data": {
            "image/png": "[encoded data removed]",
            "text/plain": [
              "<Figure size 432x288 with 1 Axes>"
            ]
          },
          "metadata": {
            "tags": [],
            "needs_background": "light"
          }
        }
      ]
    },
    {
      "cell_type": "code",
      "metadata": {
        "id": "gesssqXV5-aL",
        "outputId": "5f32820f-d6bf-491f-b581-f2c1e199c1ac",
        "colab": {
          "base_uri": "https://localhost:8080/",
          "height": 362
        }
      },
      "source": [
        "plot_jogadores('SANTOS', 'Caio do Céu')"
      ],
      "execution_count": 59,
      "outputs": [
        {
          "output_type": "display_data",
          "data": {
            "image/png": "[encoded data removed]",
            "text/plain": [
              "<Figure size 432x288 with 1 Axes>"
            ]
          },
          "metadata": {
            "tags": [],
            "needs_background": "light"
          }
        }
      ]
    }
  ]
}