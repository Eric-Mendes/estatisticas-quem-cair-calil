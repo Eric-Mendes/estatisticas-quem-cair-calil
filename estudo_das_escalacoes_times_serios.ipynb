{
  "nbformat": 4,
  "nbformat_minor": 0,
  "metadata": {
    "colab": {
      "name": "estudo_das_escalacoes_times_serios.ipynb",
      "provenance": [],
      "authorship_tag": "ABX9TyN37vEVfkHPRlyxrgtrkX2W",
      "include_colab_link": true
    },
    "kernelspec": {
      "name": "python3",
      "display_name": "Python 3"
    }
  },
  "cells": [
    {
      "cell_type": "markdown",
      "metadata": {
        "id": "view-in-github",
        "colab_type": "text"
      },
      "source": [
        "<a href=\"https://colab.research.google.com/github/Eric-Mendes/estatisticas-quem-cair-calil/blob/main/estudo_das_escalacoes_times_serios.ipynb\" target=\"_parent\"><img src=\"https://colab.research.google.com/assets/colab-badge.svg\" alt=\"Open In Colab\"/></a>"
      ]
    },
    {
      "cell_type": "code",
      "metadata": {
        "id": "7v-lv1MfOnUg"
      },
      "source": [
        "RODADAS = 33"
      ],
      "execution_count": 14,
      "outputs": []
    },
    {
      "cell_type": "code",
      "metadata": {
        "id": "x-bv1ar2OwYa"
      },
      "source": [
        "# importando as bibliotecas necessárias para estudar os dados\n",
        "import numpy as np # matemática\n",
        "import matplotlib.pyplot as plt # gráficos\n",
        "import pandas as pd # tabelas"
      ],
      "execution_count": 15,
      "outputs": []
    },
    {
      "cell_type": "code",
      "metadata": {
        "colab": {
          "base_uri": "https://localhost:8080/"
        },
        "id": "Hf3B0QCcO2Py",
        "outputId": "b50fefdb-c1b5-451f-a227-972a3b3d2556"
      },
      "source": [
        "# importando os dados (do github)\n",
        "url = 'https://raw.githubusercontent.com/Eric-Mendes/estatisticas-quem-cair-\\\n",
        "calil/main/data/escalacoes_times_serios_cartola_2020_2021.csv'\n",
        "\n",
        "# criando um dataFrame (tabela) para a melhor visualização dos dados\n",
        "df = pd.read_csv(url)\n",
        " \n",
        "# informações da tabela\n",
        "df.info()"
      ],
      "execution_count": 16,
      "outputs": [
        {
          "output_type": "stream",
          "text": [
            "<class 'pandas.core.frame.DataFrame'>\n",
            "RangeIndex: 1584 entries, 0 to 1583\n",
            "Data columns (total 7 columns):\n",
            " #   Column     Non-Null Count  Dtype  \n",
            "---  ------     --------------  -----  \n",
            " 0   EQUIPE     1584 non-null   object \n",
            " 1   RODADA     1584 non-null   object \n",
            " 2   JOGADOR    1584 non-null   object \n",
            " 3   POSIÇÃO    1584 non-null   object \n",
            " 4   PONTUAÇÃO  1584 non-null   float64\n",
            " 5   CAPITÃO    1584 non-null   object \n",
            " 6   TIME       1579 non-null   object \n",
            "dtypes: float64(1), object(6)\n",
            "memory usage: 86.8+ KB\n"
          ],
          "name": "stdout"
        }
      ]
    },
    {
      "cell_type": "markdown",
      "metadata": {
        "id": "REmUIuTkQXXl"
      },
      "source": [
        "**TRATAMENTO DOS DADOS**"
      ]
    },
    {
      "cell_type": "markdown",
      "metadata": {
        "id": "dWd0ZH3fQLks"
      },
      "source": [
        "Tornando 'RODADA' um número inteiro:"
      ]
    },
    {
      "cell_type": "code",
      "metadata": {
        "colab": {
          "base_uri": "https://localhost:8080/",
          "height": 206
        },
        "id": "qpRCE46cQLHH",
        "outputId": "e5f49022-ba87-4fcd-8ddf-7414a43d92ae"
      },
      "source": [
        "rodadas = list(df['RODADA'])\n",
        "numero_rodada = [int(rodada.replace('RODADA', '')) for rodada in rodadas]\n",
        "df.RODADA = numero_rodada\n",
        "df.head()"
      ],
      "execution_count": 17,
      "outputs": [
        {
          "output_type": "execute_result",
          "data": {
            "text/html": [
              "<div>\n",
              "<style scoped>\n",
              "    .dataframe tbody tr th:only-of-type {\n",
              "        vertical-align: middle;\n",
              "    }\n",
              "\n",
              "    .dataframe tbody tr th {\n",
              "        vertical-align: top;\n",
              "    }\n",
              "\n",
              "    .dataframe thead th {\n",
              "        text-align: right;\n",
              "    }\n",
              "</style>\n",
              "<table border=\"1\" class=\"dataframe\">\n",
              "  <thead>\n",
              "    <tr style=\"text-align: right;\">\n",
              "      <th></th>\n",
              "      <th>EQUIPE</th>\n",
              "      <th>RODADA</th>\n",
              "      <th>JOGADOR</th>\n",
              "      <th>POSIÇÃO</th>\n",
              "      <th>PONTUAÇÃO</th>\n",
              "      <th>CAPITÃO</th>\n",
              "      <th>TIME</th>\n",
              "    </tr>\n",
              "  </thead>\n",
              "  <tbody>\n",
              "    <tr>\n",
              "      <th>0</th>\n",
              "      <td>Gigante de JF</td>\n",
              "      <td>33</td>\n",
              "      <td>RICHARD</td>\n",
              "      <td>GOLEIRO</td>\n",
              "      <td>-4.2</td>\n",
              "      <td>NÃO</td>\n",
              "      <td>CEARÁ</td>\n",
              "    </tr>\n",
              "    <tr>\n",
              "      <th>1</th>\n",
              "      <td>Gigante de JF</td>\n",
              "      <td>33</td>\n",
              "      <td>CALEGARI</td>\n",
              "      <td>LATERAL</td>\n",
              "      <td>5.8</td>\n",
              "      <td>NÃO</td>\n",
              "      <td>FLUMINENSE</td>\n",
              "    </tr>\n",
              "    <tr>\n",
              "      <th>2</th>\n",
              "      <td>Gigante de JF</td>\n",
              "      <td>33</td>\n",
              "      <td>GUILHERME ARANA</td>\n",
              "      <td>LATERAL</td>\n",
              "      <td>12.6</td>\n",
              "      <td>NÃO</td>\n",
              "      <td>ATLÉTICO MINEIRO</td>\n",
              "    </tr>\n",
              "    <tr>\n",
              "      <th>3</th>\n",
              "      <td>Gigante de JF</td>\n",
              "      <td>33</td>\n",
              "      <td>LUCCAS CLARO</td>\n",
              "      <td>ZAGUEIRO</td>\n",
              "      <td>5.6</td>\n",
              "      <td>NÃO</td>\n",
              "      <td>FLUMINENSE</td>\n",
              "    </tr>\n",
              "    <tr>\n",
              "      <th>4</th>\n",
              "      <td>Gigante de JF</td>\n",
              "      <td>33</td>\n",
              "      <td>JÚNIOR ALONSO</td>\n",
              "      <td>ZAGUEIRO</td>\n",
              "      <td>4.6</td>\n",
              "      <td>NÃO</td>\n",
              "      <td>ATLÉTICO MINEIRO</td>\n",
              "    </tr>\n",
              "  </tbody>\n",
              "</table>\n",
              "</div>"
            ],
            "text/plain": [
              "          EQUIPE  RODADA          JOGADOR  ... PONTUAÇÃO  CAPITÃO              TIME\n",
              "0  Gigante de JF      33          RICHARD  ...      -4.2      NÃO             CEARÁ\n",
              "1  Gigante de JF      33         CALEGARI  ...       5.8      NÃO        FLUMINENSE\n",
              "2  Gigante de JF      33  GUILHERME ARANA  ...      12.6      NÃO  ATLÉTICO MINEIRO\n",
              "3  Gigante de JF      33     LUCCAS CLARO  ...       5.6      NÃO        FLUMINENSE\n",
              "4  Gigante de JF      33    JÚNIOR ALONSO  ...       4.6      NÃO  ATLÉTICO MINEIRO\n",
              "\n",
              "[5 rows x 7 columns]"
            ]
          },
          "metadata": {
            "tags": []
          },
          "execution_count": 17
        }
      ]
    },
    {
      "cell_type": "markdown",
      "metadata": {
        "id": "wU7-1WKeQg1u"
      },
      "source": [
        "Checando se há escalado sem time:"
      ]
    },
    {
      "cell_type": "code",
      "metadata": {
        "colab": {
          "base_uri": "https://localhost:8080/",
          "height": 49
        },
        "id": "U_LW2aumQo6A",
        "outputId": "fda7fbee-02bb-4980-9b29-d21f44b9cccd"
      },
      "source": [
        "df.loc[df.TIME == '']"
      ],
      "execution_count": 18,
      "outputs": [
        {
          "output_type": "execute_result",
          "data": {
            "text/html": [
              "<div>\n",
              "<style scoped>\n",
              "    .dataframe tbody tr th:only-of-type {\n",
              "        vertical-align: middle;\n",
              "    }\n",
              "\n",
              "    .dataframe tbody tr th {\n",
              "        vertical-align: top;\n",
              "    }\n",
              "\n",
              "    .dataframe thead th {\n",
              "        text-align: right;\n",
              "    }\n",
              "</style>\n",
              "<table border=\"1\" class=\"dataframe\">\n",
              "  <thead>\n",
              "    <tr style=\"text-align: right;\">\n",
              "      <th></th>\n",
              "      <th>EQUIPE</th>\n",
              "      <th>RODADA</th>\n",
              "      <th>JOGADOR</th>\n",
              "      <th>POSIÇÃO</th>\n",
              "      <th>PONTUAÇÃO</th>\n",
              "      <th>CAPITÃO</th>\n",
              "      <th>TIME</th>\n",
              "    </tr>\n",
              "  </thead>\n",
              "  <tbody>\n",
              "  </tbody>\n",
              "</table>\n",
              "</div>"
            ],
            "text/plain": [
              "Empty DataFrame\n",
              "Columns: [EQUIPE, RODADA, JOGADOR, POSIÇÃO, PONTUAÇÃO, CAPITÃO, TIME]\n",
              "Index: []"
            ]
          },
          "metadata": {
            "tags": []
          },
          "execution_count": 18
        }
      ]
    },
    {
      "cell_type": "markdown",
      "metadata": {
        "id": "44RSbpITQ3KY"
      },
      "source": [
        "Não há!"
      ]
    },
    {
      "cell_type": "markdown",
      "metadata": {
        "id": "ub0mch5GQ7U2"
      },
      "source": [
        "Tirando o dobro da pontuação dos capitães para não enviesar as análises:"
      ]
    },
    {
      "cell_type": "code",
      "metadata": {
        "colab": {
          "base_uri": "https://localhost:8080/",
          "height": 424
        },
        "id": "W0y1J5fCSMRg",
        "outputId": "d7403106-f29a-4ec6-ec13-d058845123eb"
      },
      "source": [
        "df.loc[df['CAPITÃO'] == 'SIM']"
      ],
      "execution_count": 19,
      "outputs": [
        {
          "output_type": "execute_result",
          "data": {
            "text/html": [
              "<div>\n",
              "<style scoped>\n",
              "    .dataframe tbody tr th:only-of-type {\n",
              "        vertical-align: middle;\n",
              "    }\n",
              "\n",
              "    .dataframe tbody tr th {\n",
              "        vertical-align: top;\n",
              "    }\n",
              "\n",
              "    .dataframe thead th {\n",
              "        text-align: right;\n",
              "    }\n",
              "</style>\n",
              "<table border=\"1\" class=\"dataframe\">\n",
              "  <thead>\n",
              "    <tr style=\"text-align: right;\">\n",
              "      <th></th>\n",
              "      <th>EQUIPE</th>\n",
              "      <th>RODADA</th>\n",
              "      <th>JOGADOR</th>\n",
              "      <th>POSIÇÃO</th>\n",
              "      <th>PONTUAÇÃO</th>\n",
              "      <th>CAPITÃO</th>\n",
              "      <th>TIME</th>\n",
              "    </tr>\n",
              "  </thead>\n",
              "  <tbody>\n",
              "    <tr>\n",
              "      <th>7</th>\n",
              "      <td>Gigante de JF</td>\n",
              "      <td>33</td>\n",
              "      <td>VINA</td>\n",
              "      <td>MEIA</td>\n",
              "      <td>8.0</td>\n",
              "      <td>SIM</td>\n",
              "      <td>CEARÁ</td>\n",
              "    </tr>\n",
              "    <tr>\n",
              "      <th>22</th>\n",
              "      <td>Gigante de JF</td>\n",
              "      <td>32</td>\n",
              "      <td>MARINHO</td>\n",
              "      <td>ATACANTE</td>\n",
              "      <td>30.2</td>\n",
              "      <td>SIM</td>\n",
              "      <td>SANTOS</td>\n",
              "    </tr>\n",
              "    <tr>\n",
              "      <th>33</th>\n",
              "      <td>Gigante de JF</td>\n",
              "      <td>31</td>\n",
              "      <td>CLAUDINHO</td>\n",
              "      <td>ATACANTE</td>\n",
              "      <td>46.4</td>\n",
              "      <td>SIM</td>\n",
              "      <td>BRAGANTINO</td>\n",
              "    </tr>\n",
              "    <tr>\n",
              "      <th>44</th>\n",
              "      <td>Gigante de JF</td>\n",
              "      <td>30</td>\n",
              "      <td>MARINHO</td>\n",
              "      <td>ATACANTE</td>\n",
              "      <td>24.4</td>\n",
              "      <td>SIM</td>\n",
              "      <td>SANTOS</td>\n",
              "    </tr>\n",
              "    <tr>\n",
              "      <th>57</th>\n",
              "      <td>Gigante de JF</td>\n",
              "      <td>29</td>\n",
              "      <td>BRENNER</td>\n",
              "      <td>ATACANTE</td>\n",
              "      <td>9.6</td>\n",
              "      <td>SIM</td>\n",
              "      <td>SÃO PAULO</td>\n",
              "    </tr>\n",
              "    <tr>\n",
              "      <th>...</th>\n",
              "      <td>...</td>\n",
              "      <td>...</td>\n",
              "      <td>...</td>\n",
              "      <td>...</td>\n",
              "      <td>...</td>\n",
              "      <td>...</td>\n",
              "      <td>...</td>\n",
              "    </tr>\n",
              "    <tr>\n",
              "      <th>1532</th>\n",
              "      <td>Unichampions</td>\n",
              "      <td>5</td>\n",
              "      <td>GREGORE</td>\n",
              "      <td>MEIA</td>\n",
              "      <td>-4.4</td>\n",
              "      <td>SIM</td>\n",
              "      <td>BAHIA</td>\n",
              "    </tr>\n",
              "    <tr>\n",
              "      <th>1545</th>\n",
              "      <td>Unichampions</td>\n",
              "      <td>4</td>\n",
              "      <td>JÔ</td>\n",
              "      <td>ATACANTE</td>\n",
              "      <td>14.2</td>\n",
              "      <td>SIM</td>\n",
              "      <td>CORINTHIANS</td>\n",
              "    </tr>\n",
              "    <tr>\n",
              "      <th>1558</th>\n",
              "      <td>Unichampions</td>\n",
              "      <td>3</td>\n",
              "      <td>ÉLBER</td>\n",
              "      <td>ATACANTE</td>\n",
              "      <td>18.6</td>\n",
              "      <td>SIM</td>\n",
              "      <td>BAHIA</td>\n",
              "    </tr>\n",
              "    <tr>\n",
              "      <th>1566</th>\n",
              "      <td>Unichampions</td>\n",
              "      <td>2</td>\n",
              "      <td>IGOR GOMES</td>\n",
              "      <td>MEIA</td>\n",
              "      <td>-4.2</td>\n",
              "      <td>SIM</td>\n",
              "      <td>SÃO PAULO</td>\n",
              "    </tr>\n",
              "    <tr>\n",
              "      <th>1578</th>\n",
              "      <td>Unichampions</td>\n",
              "      <td>1</td>\n",
              "      <td>IGOR GOMES</td>\n",
              "      <td>MEIA</td>\n",
              "      <td>0.0</td>\n",
              "      <td>SIM</td>\n",
              "      <td>SÃO PAULO</td>\n",
              "    </tr>\n",
              "  </tbody>\n",
              "</table>\n",
              "<p>132 rows × 7 columns</p>\n",
              "</div>"
            ],
            "text/plain": [
              "             EQUIPE  RODADA     JOGADOR  ... PONTUAÇÃO  CAPITÃO         TIME\n",
              "7     Gigante de JF      33        VINA  ...       8.0      SIM        CEARÁ\n",
              "22    Gigante de JF      32     MARINHO  ...      30.2      SIM       SANTOS\n",
              "33    Gigante de JF      31   CLAUDINHO  ...      46.4      SIM   BRAGANTINO\n",
              "44    Gigante de JF      30     MARINHO  ...      24.4      SIM       SANTOS\n",
              "57    Gigante de JF      29     BRENNER  ...       9.6      SIM    SÃO PAULO\n",
              "...             ...     ...         ...  ...       ...      ...          ...\n",
              "1532   Unichampions       5     GREGORE  ...      -4.4      SIM        BAHIA\n",
              "1545   Unichampions       4          JÔ  ...      14.2      SIM  CORINTHIANS\n",
              "1558   Unichampions       3       ÉLBER  ...      18.6      SIM        BAHIA\n",
              "1566   Unichampions       2  IGOR GOMES  ...      -4.2      SIM    SÃO PAULO\n",
              "1578   Unichampions       1  IGOR GOMES  ...       0.0      SIM    SÃO PAULO\n",
              "\n",
              "[132 rows x 7 columns]"
            ]
          },
          "metadata": {
            "tags": []
          },
          "execution_count": 19
        }
      ]
    },
    {
      "cell_type": "code",
      "metadata": {
        "id": "gmoPIlt6RtmB"
      },
      "source": [
        "def tira_dobro(x):\n",
        "  return x/2"
      ],
      "execution_count": 20,
      "outputs": []
    },
    {
      "cell_type": "code",
      "metadata": {
        "colab": {
          "base_uri": "https://localhost:8080/"
        },
        "id": "Hw_H5-YiPmQF",
        "outputId": "7562068e-b34d-414f-e40f-98262bcf1223"
      },
      "source": [
        "df['PONTUAÇÃO'].loc[df['CAPITÃO'] == 'SIM'] = list(map(tira_dobro, list(df['PONTUAÇÃO'].loc[df['CAPITÃO'] == 'SIM'])))"
      ],
      "execution_count": 21,
      "outputs": [
        {
          "output_type": "stream",
          "text": [
            "/usr/local/lib/python3.6/dist-packages/pandas/core/indexing.py:670: SettingWithCopyWarning: \n",
            "A value is trying to be set on a copy of a slice from a DataFrame\n",
            "\n",
            "See the caveats in the documentation: https://pandas.pydata.org/pandas-docs/stable/user_guide/indexing.html#returning-a-view-versus-a-copy\n",
            "  iloc._setitem_with_indexer(indexer, value)\n"
          ],
          "name": "stderr"
        }
      ]
    },
    {
      "cell_type": "code",
      "metadata": {
        "colab": {
          "base_uri": "https://localhost:8080/",
          "height": 424
        },
        "id": "X2AZL8P5Sqhe",
        "outputId": "6457e37c-fe7c-4501-f1ec-1d0f8e54538d"
      },
      "source": [
        "df.loc[df['CAPITÃO'] == 'SIM']"
      ],
      "execution_count": 22,
      "outputs": [
        {
          "output_type": "execute_result",
          "data": {
            "text/html": [
              "<div>\n",
              "<style scoped>\n",
              "    .dataframe tbody tr th:only-of-type {\n",
              "        vertical-align: middle;\n",
              "    }\n",
              "\n",
              "    .dataframe tbody tr th {\n",
              "        vertical-align: top;\n",
              "    }\n",
              "\n",
              "    .dataframe thead th {\n",
              "        text-align: right;\n",
              "    }\n",
              "</style>\n",
              "<table border=\"1\" class=\"dataframe\">\n",
              "  <thead>\n",
              "    <tr style=\"text-align: right;\">\n",
              "      <th></th>\n",
              "      <th>EQUIPE</th>\n",
              "      <th>RODADA</th>\n",
              "      <th>JOGADOR</th>\n",
              "      <th>POSIÇÃO</th>\n",
              "      <th>PONTUAÇÃO</th>\n",
              "      <th>CAPITÃO</th>\n",
              "      <th>TIME</th>\n",
              "    </tr>\n",
              "  </thead>\n",
              "  <tbody>\n",
              "    <tr>\n",
              "      <th>7</th>\n",
              "      <td>Gigante de JF</td>\n",
              "      <td>33</td>\n",
              "      <td>VINA</td>\n",
              "      <td>MEIA</td>\n",
              "      <td>4.0</td>\n",
              "      <td>SIM</td>\n",
              "      <td>CEARÁ</td>\n",
              "    </tr>\n",
              "    <tr>\n",
              "      <th>22</th>\n",
              "      <td>Gigante de JF</td>\n",
              "      <td>32</td>\n",
              "      <td>MARINHO</td>\n",
              "      <td>ATACANTE</td>\n",
              "      <td>15.1</td>\n",
              "      <td>SIM</td>\n",
              "      <td>SANTOS</td>\n",
              "    </tr>\n",
              "    <tr>\n",
              "      <th>33</th>\n",
              "      <td>Gigante de JF</td>\n",
              "      <td>31</td>\n",
              "      <td>CLAUDINHO</td>\n",
              "      <td>ATACANTE</td>\n",
              "      <td>23.2</td>\n",
              "      <td>SIM</td>\n",
              "      <td>BRAGANTINO</td>\n",
              "    </tr>\n",
              "    <tr>\n",
              "      <th>44</th>\n",
              "      <td>Gigante de JF</td>\n",
              "      <td>30</td>\n",
              "      <td>MARINHO</td>\n",
              "      <td>ATACANTE</td>\n",
              "      <td>12.2</td>\n",
              "      <td>SIM</td>\n",
              "      <td>SANTOS</td>\n",
              "    </tr>\n",
              "    <tr>\n",
              "      <th>57</th>\n",
              "      <td>Gigante de JF</td>\n",
              "      <td>29</td>\n",
              "      <td>BRENNER</td>\n",
              "      <td>ATACANTE</td>\n",
              "      <td>4.8</td>\n",
              "      <td>SIM</td>\n",
              "      <td>SÃO PAULO</td>\n",
              "    </tr>\n",
              "    <tr>\n",
              "      <th>...</th>\n",
              "      <td>...</td>\n",
              "      <td>...</td>\n",
              "      <td>...</td>\n",
              "      <td>...</td>\n",
              "      <td>...</td>\n",
              "      <td>...</td>\n",
              "      <td>...</td>\n",
              "    </tr>\n",
              "    <tr>\n",
              "      <th>1532</th>\n",
              "      <td>Unichampions</td>\n",
              "      <td>5</td>\n",
              "      <td>GREGORE</td>\n",
              "      <td>MEIA</td>\n",
              "      <td>-2.2</td>\n",
              "      <td>SIM</td>\n",
              "      <td>BAHIA</td>\n",
              "    </tr>\n",
              "    <tr>\n",
              "      <th>1545</th>\n",
              "      <td>Unichampions</td>\n",
              "      <td>4</td>\n",
              "      <td>JÔ</td>\n",
              "      <td>ATACANTE</td>\n",
              "      <td>7.1</td>\n",
              "      <td>SIM</td>\n",
              "      <td>CORINTHIANS</td>\n",
              "    </tr>\n",
              "    <tr>\n",
              "      <th>1558</th>\n",
              "      <td>Unichampions</td>\n",
              "      <td>3</td>\n",
              "      <td>ÉLBER</td>\n",
              "      <td>ATACANTE</td>\n",
              "      <td>9.3</td>\n",
              "      <td>SIM</td>\n",
              "      <td>BAHIA</td>\n",
              "    </tr>\n",
              "    <tr>\n",
              "      <th>1566</th>\n",
              "      <td>Unichampions</td>\n",
              "      <td>2</td>\n",
              "      <td>IGOR GOMES</td>\n",
              "      <td>MEIA</td>\n",
              "      <td>-2.1</td>\n",
              "      <td>SIM</td>\n",
              "      <td>SÃO PAULO</td>\n",
              "    </tr>\n",
              "    <tr>\n",
              "      <th>1578</th>\n",
              "      <td>Unichampions</td>\n",
              "      <td>1</td>\n",
              "      <td>IGOR GOMES</td>\n",
              "      <td>MEIA</td>\n",
              "      <td>0.0</td>\n",
              "      <td>SIM</td>\n",
              "      <td>SÃO PAULO</td>\n",
              "    </tr>\n",
              "  </tbody>\n",
              "</table>\n",
              "<p>132 rows × 7 columns</p>\n",
              "</div>"
            ],
            "text/plain": [
              "             EQUIPE  RODADA     JOGADOR  ... PONTUAÇÃO  CAPITÃO         TIME\n",
              "7     Gigante de JF      33        VINA  ...       4.0      SIM        CEARÁ\n",
              "22    Gigante de JF      32     MARINHO  ...      15.1      SIM       SANTOS\n",
              "33    Gigante de JF      31   CLAUDINHO  ...      23.2      SIM   BRAGANTINO\n",
              "44    Gigante de JF      30     MARINHO  ...      12.2      SIM       SANTOS\n",
              "57    Gigante de JF      29     BRENNER  ...       4.8      SIM    SÃO PAULO\n",
              "...             ...     ...         ...  ...       ...      ...          ...\n",
              "1532   Unichampions       5     GREGORE  ...      -2.2      SIM        BAHIA\n",
              "1545   Unichampions       4          JÔ  ...       7.1      SIM  CORINTHIANS\n",
              "1558   Unichampions       3       ÉLBER  ...       9.3      SIM        BAHIA\n",
              "1566   Unichampions       2  IGOR GOMES  ...      -2.1      SIM    SÃO PAULO\n",
              "1578   Unichampions       1  IGOR GOMES  ...       0.0      SIM    SÃO PAULO\n",
              "\n",
              "[132 rows x 7 columns]"
            ]
          },
          "metadata": {
            "tags": []
          },
          "execution_count": 22
        }
      ]
    },
    {
      "cell_type": "code",
      "metadata": {
        "colab": {
          "base_uri": "https://localhost:8080/",
          "height": 426
        },
        "id": "BAl36skKSxr6",
        "outputId": "e5fc8a5e-5403-4035-e9db-c01bb65a626e"
      },
      "source": [
        "df.head(12)"
      ],
      "execution_count": 23,
      "outputs": [
        {
          "output_type": "execute_result",
          "data": {
            "text/html": [
              "<div>\n",
              "<style scoped>\n",
              "    .dataframe tbody tr th:only-of-type {\n",
              "        vertical-align: middle;\n",
              "    }\n",
              "\n",
              "    .dataframe tbody tr th {\n",
              "        vertical-align: top;\n",
              "    }\n",
              "\n",
              "    .dataframe thead th {\n",
              "        text-align: right;\n",
              "    }\n",
              "</style>\n",
              "<table border=\"1\" class=\"dataframe\">\n",
              "  <thead>\n",
              "    <tr style=\"text-align: right;\">\n",
              "      <th></th>\n",
              "      <th>EQUIPE</th>\n",
              "      <th>RODADA</th>\n",
              "      <th>JOGADOR</th>\n",
              "      <th>POSIÇÃO</th>\n",
              "      <th>PONTUAÇÃO</th>\n",
              "      <th>CAPITÃO</th>\n",
              "      <th>TIME</th>\n",
              "    </tr>\n",
              "  </thead>\n",
              "  <tbody>\n",
              "    <tr>\n",
              "      <th>0</th>\n",
              "      <td>Gigante de JF</td>\n",
              "      <td>33</td>\n",
              "      <td>RICHARD</td>\n",
              "      <td>GOLEIRO</td>\n",
              "      <td>-4.20</td>\n",
              "      <td>NÃO</td>\n",
              "      <td>CEARÁ</td>\n",
              "    </tr>\n",
              "    <tr>\n",
              "      <th>1</th>\n",
              "      <td>Gigante de JF</td>\n",
              "      <td>33</td>\n",
              "      <td>CALEGARI</td>\n",
              "      <td>LATERAL</td>\n",
              "      <td>5.80</td>\n",
              "      <td>NÃO</td>\n",
              "      <td>FLUMINENSE</td>\n",
              "    </tr>\n",
              "    <tr>\n",
              "      <th>2</th>\n",
              "      <td>Gigante de JF</td>\n",
              "      <td>33</td>\n",
              "      <td>GUILHERME ARANA</td>\n",
              "      <td>LATERAL</td>\n",
              "      <td>12.60</td>\n",
              "      <td>NÃO</td>\n",
              "      <td>ATLÉTICO MINEIRO</td>\n",
              "    </tr>\n",
              "    <tr>\n",
              "      <th>3</th>\n",
              "      <td>Gigante de JF</td>\n",
              "      <td>33</td>\n",
              "      <td>LUCCAS CLARO</td>\n",
              "      <td>ZAGUEIRO</td>\n",
              "      <td>5.60</td>\n",
              "      <td>NÃO</td>\n",
              "      <td>FLUMINENSE</td>\n",
              "    </tr>\n",
              "    <tr>\n",
              "      <th>4</th>\n",
              "      <td>Gigante de JF</td>\n",
              "      <td>33</td>\n",
              "      <td>JÚNIOR ALONSO</td>\n",
              "      <td>ZAGUEIRO</td>\n",
              "      <td>4.60</td>\n",
              "      <td>NÃO</td>\n",
              "      <td>ATLÉTICO MINEIRO</td>\n",
              "    </tr>\n",
              "    <tr>\n",
              "      <th>5</th>\n",
              "      <td>Gigante de JF</td>\n",
              "      <td>33</td>\n",
              "      <td>EDENÍLSON</td>\n",
              "      <td>MEIA</td>\n",
              "      <td>9.80</td>\n",
              "      <td>NÃO</td>\n",
              "      <td>INTERNACIONAL</td>\n",
              "    </tr>\n",
              "    <tr>\n",
              "      <th>6</th>\n",
              "      <td>Gigante de JF</td>\n",
              "      <td>33</td>\n",
              "      <td>HYORAN</td>\n",
              "      <td>MEIA</td>\n",
              "      <td>6.70</td>\n",
              "      <td>NÃO</td>\n",
              "      <td>ATLÉTICO MINEIRO</td>\n",
              "    </tr>\n",
              "    <tr>\n",
              "      <th>7</th>\n",
              "      <td>Gigante de JF</td>\n",
              "      <td>33</td>\n",
              "      <td>VINA</td>\n",
              "      <td>MEIA</td>\n",
              "      <td>4.00</td>\n",
              "      <td>SIM</td>\n",
              "      <td>CEARÁ</td>\n",
              "    </tr>\n",
              "    <tr>\n",
              "      <th>8</th>\n",
              "      <td>Gigante de JF</td>\n",
              "      <td>33</td>\n",
              "      <td>EDUARDO SASHA</td>\n",
              "      <td>ATACANTE</td>\n",
              "      <td>1.80</td>\n",
              "      <td>NÃO</td>\n",
              "      <td>ATLÉTICO MINEIRO</td>\n",
              "    </tr>\n",
              "    <tr>\n",
              "      <th>9</th>\n",
              "      <td>Gigante de JF</td>\n",
              "      <td>33</td>\n",
              "      <td>CANO</td>\n",
              "      <td>ATACANTE</td>\n",
              "      <td>1.50</td>\n",
              "      <td>NÃO</td>\n",
              "      <td>VASCO</td>\n",
              "    </tr>\n",
              "    <tr>\n",
              "      <th>10</th>\n",
              "      <td>Gigante de JF</td>\n",
              "      <td>33</td>\n",
              "      <td>YURI ALBERTO</td>\n",
              "      <td>ATACANTE</td>\n",
              "      <td>-0.20</td>\n",
              "      <td>NÃO</td>\n",
              "      <td>INTERNACIONAL</td>\n",
              "    </tr>\n",
              "    <tr>\n",
              "      <th>11</th>\n",
              "      <td>Gigante de JF</td>\n",
              "      <td>33</td>\n",
              "      <td>GUTO FERREIRA</td>\n",
              "      <td>TÉCNICO</td>\n",
              "      <td>2.41</td>\n",
              "      <td>NÃO</td>\n",
              "      <td>CEARÁ</td>\n",
              "    </tr>\n",
              "  </tbody>\n",
              "</table>\n",
              "</div>"
            ],
            "text/plain": [
              "           EQUIPE  RODADA          JOGADOR  ... PONTUAÇÃO  CAPITÃO              TIME\n",
              "0   Gigante de JF      33          RICHARD  ...     -4.20      NÃO             CEARÁ\n",
              "1   Gigante de JF      33         CALEGARI  ...      5.80      NÃO        FLUMINENSE\n",
              "2   Gigante de JF      33  GUILHERME ARANA  ...     12.60      NÃO  ATLÉTICO MINEIRO\n",
              "3   Gigante de JF      33     LUCCAS CLARO  ...      5.60      NÃO        FLUMINENSE\n",
              "4   Gigante de JF      33    JÚNIOR ALONSO  ...      4.60      NÃO  ATLÉTICO MINEIRO\n",
              "5   Gigante de JF      33        EDENÍLSON  ...      9.80      NÃO     INTERNACIONAL\n",
              "6   Gigante de JF      33           HYORAN  ...      6.70      NÃO  ATLÉTICO MINEIRO\n",
              "7   Gigante de JF      33             VINA  ...      4.00      SIM             CEARÁ\n",
              "8   Gigante de JF      33    EDUARDO SASHA  ...      1.80      NÃO  ATLÉTICO MINEIRO\n",
              "9   Gigante de JF      33             CANO  ...      1.50      NÃO             VASCO\n",
              "10  Gigante de JF      33     YURI ALBERTO  ...     -0.20      NÃO     INTERNACIONAL\n",
              "11  Gigante de JF      33    GUTO FERREIRA  ...      2.41      NÃO             CEARÁ\n",
              "\n",
              "[12 rows x 7 columns]"
            ]
          },
          "metadata": {
            "tags": []
          },
          "execution_count": 23
        }
      ]
    },
    {
      "cell_type": "code",
      "metadata": {
        "id": "RMUp_hiTTXmv"
      },
      "source": [
        "times = np.unique(list(df['TIME']))\n",
        "vezes_que_aparece_no_df = []\n",
        "for time in times[:-1]:\n",
        "  vezes_que_aparece_no_df.append(df['TIME'].loc[df.TIME == time].count())\n",
        "\n",
        "times_vezes = []\n",
        "for i in range(len(times[:-1])):\n",
        "  time_vez = (times[i], vezes_que_aparece_no_df[i])\n",
        "  times_vezes.append(time_vez)"
      ],
      "execution_count": 41,
      "outputs": []
    },
    {
      "cell_type": "code",
      "metadata": {
        "id": "NPO5W2NcWylz"
      },
      "source": [
        "t_v_em_ordem = sorted(times_vezes, reverse=True, key=lambda tup: tup[1])"
      ],
      "execution_count": 46,
      "outputs": []
    },
    {
      "cell_type": "code",
      "metadata": {
        "colab": {
          "base_uri": "https://localhost:8080/",
          "height": 396
        },
        "id": "phqmhnNCWFMb",
        "outputId": "0977b8d0-fd69-46bc-b74f-bac0e6eaa105"
      },
      "source": [
        "#tirando_a_tupla_de_t_v\n",
        "t = []\n",
        "v = []\n",
        "for i in range(len(t_v_em_ordem)):\n",
        "  t.append(t_v_em_ordem[i][0])\n",
        "  v.append(t_v_em_ordem[i][1])\n",
        "\n",
        "plt.ylabel('Vezes escalado')\n",
        "N = len(t)\n",
        "ind = np.arange(N)\n",
        "plt.xticks(ind, t, rotation='vertical')\n",
        "plt.yticks(np.arange(0, max(v)+2, 20))\n",
        "plt.title('Vezes que um time foi escalado entre os times sérios')\n",
        "plt.bar(t, v, color=['blue', 'yellow', 'green', 'purple',\n",
        "                     'aqua', 'navajowhite', 'black', 'brown',\n",
        "                     'palegreen', 'darkolivegreen', 'deepskyblue', 'red',\n",
        "                     'magenta', 'navy', 'greenyellow', 'pink',\n",
        "                     'peachpuff', 'thistle', 'grey', 'gold'])\n",
        "plt.show()"
      ],
      "execution_count": 50,
      "outputs": [
        {
          "output_type": "display_data",
          "data": {
            "image/png": "[encoded data removed]",
            "text/plain": [
              "<Figure size 432x288 with 1 Axes>"
            ]
          },
          "metadata": {
            "tags": [],
            "needs_background": "light"
          }
        }
      ]
    },
    {
      "cell_type": "code",
      "metadata": {
        "id": "382iiFpwkoE1"
      },
      "source": [
        "capitaes = np.unique(list(df['JOGADOR'].loc[df['CAPITÃO'] == 'SIM']))\n",
        "\n",
        "vezes_capitao = []\n",
        "for capitao in capitaes:\n",
        "  vezes_capitao.append((capitao, df['JOGADOR'].loc[(df['JOGADOR'] == capitao) & \n",
        "                                                   (df['CAPITÃO'] == 'SIM')].count()))"
      ],
      "execution_count": 55,
      "outputs": []
    },
    {
      "cell_type": "code",
      "metadata": {
        "id": "NjmLjK40mTG8"
      },
      "source": [
        "vezes_capitao = sorted(vezes_capitao, reverse=True, key=lambda tup: tup[1])"
      ],
      "execution_count": 56,
      "outputs": []
    },
    {
      "cell_type": "code",
      "metadata": {
        "colab": {
          "base_uri": "https://localhost:8080/",
          "height": 370
        },
        "id": "Z_NiJjG_mctH",
        "outputId": "5631afe9-b04c-4e53-a280-1fe237acf9b1"
      },
      "source": [
        "cap = []\n",
        "vez = []\n",
        "for i in range(len(vezes_capitao)):\n",
        "  cap.append(vezes_capitao[i][0])\n",
        "  vez.append(vezes_capitao[i][1])\n",
        "\n",
        "plt.ylabel('Vezes capitão')\n",
        "N = len(cap[:12])\n",
        "ind = np.arange(N)\n",
        "plt.xticks(ind, cap[:12], rotation='vertical')\n",
        "plt.yticks(np.arange(0, max(vez[:12])+2, 5))\n",
        "plt.title('Os 12 capitães mais escalados')\n",
        "plt.bar(cap[:12], vez[:12], color=['blue', 'yellow', 'green', 'purple',\n",
        "                     'aqua', 'navajowhite', 'black', 'brown',\n",
        "                     'palegreen', 'darkolivegreen', 'deepskyblue', 'red',\n",
        "                     'magenta', 'navy', 'greenyellow', 'pink',\n",
        "                     'peachpuff', 'thistle', 'grey', 'gold'])\n",
        "plt.show()"
      ],
      "execution_count": 59,
      "outputs": [
        {
          "output_type": "display_data",
          "data": {
            "image/png": "[encoded data removed]",
            "text/plain": [
              "<Figure size 432x288 with 1 Axes>"
            ]
          },
          "metadata": {
            "tags": [],
            "needs_background": "light"
          }
        }
      ]
    }
  ]
}